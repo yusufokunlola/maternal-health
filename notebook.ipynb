{
 "cells": [
  {
   "attachments": {},
   "cell_type": "markdown",
   "metadata": {},
   "source": [
    "[![Open In Colab](https://colab.research.google.com/assets/colab-badge.svg)](https://colab.research.google.com/github/yusufokunlola/maternal-health/blob/main/notebook.ipynb)"
   ]
  },
  {
   "attachments": {},
   "cell_type": "markdown",
   "metadata": {},
   "source": [
    "### Context\n",
    "Data has been collected from different hospitals, community clinics, maternal health cares through the IoT based risk monitoring system.\n",
    "\n",
    "- Age: Age in years when a woman is pregnant.\n",
    "- SystolicBP: Upper value of Blood Pressure in mmHg, another significant attribute during pregnancy.\n",
    "- DiastolicBP: Lower value of Blood Pressure in mmHg, another significant attribute during pregnancy.\n",
    "- BS: Blood glucose levels is in terms of a molar concentration, mmol/L.\n",
    "- HeartRate: A normal resting heart rate in beats per minute.\n",
    "- Risk Level: Predicted Risk Intensity Level during pregnancy considering the previous attribute.\n",
    "\n",
    "\n",
    "### Data Source\n",
    "\n",
    "Data was sourced from [Kaggle](https://www.kaggle.com/datasets/csafrit2/maternal-health-risk-data)"
   ]
  },
  {
   "cell_type": "code",
   "execution_count": null,
   "metadata": {},
   "outputs": [],
   "source": [
    "# import libraries\n",
    "import pandas as pd\n",
    "import numpy as np\n",
    "import matplotlib.pyplot as plt \n",
    "import seaborn as sns\n",
    "import plotly.express as px\n",
    "from plotly.offline import init_notebook_mode\n",
    "init_notebook_mode(connected = True)\n",
    "\n",
    "import warnings\n",
    "warnings.filterwarnings(\"ignore\")"
   ]
  },
  {
   "cell_type": "code",
   "execution_count": null,
   "metadata": {},
   "outputs": [],
   "source": [
    "# load data\n",
    "df = pd.read_csv('MaternalHealthRisk.csv')\n",
    "print(\"Data imported successfully\")"
   ]
  },
  {
   "cell_type": "code",
   "execution_count": null,
   "metadata": {},
   "outputs": [],
   "source": [
    "# inspect dataframe by printing out the first 5 rows\n",
    "df.head()"
   ]
  },
  {
   "cell_type": "code",
   "execution_count": null,
   "metadata": {},
   "outputs": [],
   "source": [
    "# display all columns for better visibility\n",
    "pd.set_option('display.max_columns', None)"
   ]
  },
  {
   "cell_type": "code",
   "execution_count": null,
   "metadata": {},
   "outputs": [],
   "source": [
    "# explore top 5 and bottom 5 data (full columns)\n",
    "df"
   ]
  },
  {
   "cell_type": "code",
   "execution_count": null,
   "metadata": {},
   "outputs": [],
   "source": [
    "# check the shape of the data\n",
    "df.shape"
   ]
  },
  {
   "cell_type": "code",
   "execution_count": null,
   "metadata": {},
   "outputs": [],
   "source": [
    "# info about the data\n",
    "df.info()"
   ]
  },
  {
   "cell_type": "code",
   "execution_count": null,
   "metadata": {},
   "outputs": [],
   "source": [
    "# Checking for the null value.\n",
    "df.isna().sum()"
   ]
  },
  {
   "cell_type": "code",
   "execution_count": null,
   "metadata": {},
   "outputs": [],
   "source": [
    "# return a total count for each RiskLevel in the dataset\n",
    "df.RiskLevel.value_counts()"
   ]
  },
  {
   "cell_type": "code",
   "execution_count": null,
   "metadata": {},
   "outputs": [],
   "source": [
    "# check the datatype counts of the dataset\n",
    "df.dtypes.value_counts()"
   ]
  },
  {
   "cell_type": "code",
   "execution_count": null,
   "metadata": {},
   "outputs": [],
   "source": [
    "# number of unique values in each features\n",
    "df.nunique()"
   ]
  },
  {
   "cell_type": "code",
   "execution_count": null,
   "metadata": {},
   "outputs": [],
   "source": [
    "# statistical summary\n",
    "df.describe()"
   ]
  },
  {
   "attachments": {},
   "cell_type": "markdown",
   "metadata": {},
   "source": [
    "### visualize the distribution of the numerical variables"
   ]
  },
  {
   "cell_type": "code",
   "execution_count": null,
   "metadata": {},
   "outputs": [],
   "source": [
    "sns.histplot(df['Age'], kde=True)\n",
    "plt.title('Distribution of Age')\n",
    "plt.show()"
   ]
  },
  {
   "attachments": {},
   "cell_type": "markdown",
   "metadata": {},
   "source": [
    "The Age distribustion above shows that women from age 25 to 48 are of higher risk of Maternal health issues while from age 48 to 50 also need to take precausions so that they do not suffer from Maternal health issues."
   ]
  },
  {
   "cell_type": "code",
   "execution_count": null,
   "metadata": {},
   "outputs": [],
   "source": [
    "df.columns"
   ]
  },
  {
   "cell_type": "code",
   "execution_count": null,
   "metadata": {},
   "outputs": [],
   "source": [
    "# Assign age distribution to a new column\n",
    "# Define the conditions and corresponding designations\n",
    "conditions = [\n",
    "    df['Age'] <= 17,\n",
    "    df['Age'] <= 44,\n",
    "    df['Age'] <= 55,\n",
    "    df['Age'] >= 56\n",
    "]\n",
    "designations = [\n",
    "    'Children',\n",
    "    'Pre-menopausal Adults',\n",
    "    'Menopausal Adults',\n",
    "    'Post-menopausal Adults'\n",
    "]\n",
    "\n",
    "# Use numpy.select() to create the new column\n",
    "df['AgeDist'] = np.select(conditions, designations)"
   ]
  },
  {
   "cell_type": "code",
   "execution_count": null,
   "metadata": {},
   "outputs": [],
   "source": [
    "# Count the frequency of each value in the 'AgeDist' column\n",
    "age_dist_counts = df['AgeDist'].value_counts()\n",
    "\n",
    "# Create a pie chart of the frequency counts\n",
    "age_dist_counts.plot.pie(autopct='%1.1f%%', startangle=90, labeldistance=1.2, figsize=(8, 8), legend=True)\n",
    "\n",
    "# Set the title of the chart\n",
    "plt.title('Age Distribution')\n",
    "\n",
    "# Show the legend\n",
    "plt.legend(bbox_to_anchor=(1.05, 1), loc='upper left', borderaxespad=0, title='Age Distribution')\n",
    "\n",
    "# Show the chart\n",
    "plt.show()"
   ]
  },
  {
   "attachments": {},
   "cell_type": "markdown",
   "metadata": {},
   "source": [
    "The age distribution above from W.H.O 2022 and National Institute on Aging shows that Older adults are of higher risk of Maternal health with a percentage of 54.4."
   ]
  },
  {
   "cell_type": "code",
   "execution_count": null,
   "metadata": {},
   "outputs": [],
   "source": [
    "# Select only the numerical columns\n",
    "num_cols = ['Age', 'SystolicBP', 'DiastolicBP', 'BS', 'BodyTemp', 'HeartRate']\n",
    "\n",
    "# Plot histograms for all numerical columns\n",
    "df[num_cols].hist(bins=10, figsize=(15, 12))\n",
    "\n",
    "# Add titles and axis labels\n",
    "plt.suptitle('Histograms of Numerical Variables', fontsize=16)\n",
    "plt.tight_layout()\n",
    "plt.show()"
   ]
  },
  {
   "cell_type": "code",
   "execution_count": null,
   "metadata": {},
   "outputs": [],
   "source": [
    "# Generate box plots for each column\n",
    "df.boxplot()\n",
    "\n",
    "# Show the plot\n",
    "plt.show()"
   ]
  },
  {
   "attachments": {},
   "cell_type": "markdown",
   "metadata": {},
   "source": [
    "Questions\n",
    "\n",
    "What is the acceptable range of value for the following columns:\n",
    "\n",
    "    1. Age\n",
    "    2. SystolicBP \n",
    "    3. DiastolicBP\n",
    "    4. BS\n",
    "    5. BodyTemp\n",
    "    6. HeartRate"
   ]
  },
  {
   "attachments": {},
   "cell_type": "markdown",
   "metadata": {},
   "source": [
    "### visualize the relationship between the numerical variables and the target variable"
   ]
  },
  {
   "cell_type": "code",
   "execution_count": null,
   "metadata": {},
   "outputs": [],
   "source": [
    "sns.boxplot(x='RiskLevel', y='Age', data=df)\n",
    "plt.title('Age vs. RiskLevel')\n",
    "plt.show()"
   ]
  },
  {
   "attachments": {},
   "cell_type": "markdown",
   "metadata": {},
   "source": [
    "From the boxplot above, it shows that women from age 25 to 48 are of higher risk of maternal health risk."
   ]
  },
  {
   "cell_type": "code",
   "execution_count": null,
   "metadata": {},
   "outputs": [],
   "source": [
    "sns.boxplot(x='RiskLevel', y='SystolicBP', data=df)\n",
    "plt.title('SystolicBP vs. RiskLevel')\n",
    "plt.show()"
   ]
  },
  {
   "attachments": {},
   "cell_type": "markdown",
   "metadata": {},
   "source": [
    "SystolicBP measures the pressure in the artries when the heart beats and from the above plot, women with Bp between 120 to 140 are of high risk of suffering from maternal heallth risk."
   ]
  },
  {
   "cell_type": "code",
   "execution_count": null,
   "metadata": {},
   "outputs": [],
   "source": [
    "sns.boxplot(x='RiskLevel', y='DiastolicBP', data=df)\n",
    "plt.title('DiastolicBP vs. RiskLevel')\n",
    "plt.show()"
   ]
  },
  {
   "attachments": {},
   "cell_type": "markdown",
   "metadata": {},
   "source": [
    "DiastolicBP measures the pressure in the heart when it is at rest between beats and the boxplot above shos that women between 75 to 100 DiastolicBp are of high risk of maternal health"
   ]
  },
  {
   "cell_type": "code",
   "execution_count": null,
   "metadata": {},
   "outputs": [],
   "source": [
    "sns.boxplot(x='RiskLevel', y='BS', data=df)\n",
    "plt.title('BS vs. RiskLevel')\n",
    "plt.show()"
   ]
  },
  {
   "attachments": {},
   "cell_type": "markdown",
   "metadata": {},
   "source": [
    "BS is the blood glucose level also knon as blood sugar level, women between 8 to 14.5 blood sugar level are of high risk of maternal health as shown above."
   ]
  },
  {
   "cell_type": "code",
   "execution_count": null,
   "metadata": {},
   "outputs": [],
   "source": [
    "sns.boxplot(x='RiskLevel', y='BodyTemp', data=df)\n",
    "plt.title('BodyTemp vs. RiskLevel')\n",
    "plt.show()"
   ]
  },
  {
   "attachments": {},
   "cell_type": "markdown",
   "metadata": {},
   "source": [
    "Body temperature of a pregnant woman and it's effect varies depending on how old the pregnancy is however, from the boxplot above shos that women with body temperature between 98 to 100 are both at high risk and mis risk of maternal health."
   ]
  },
  {
   "cell_type": "code",
   "execution_count": null,
   "metadata": {},
   "outputs": [],
   "source": [
    "sns.boxplot(x='RiskLevel', y='HeartRate', data=df)\n",
    "plt.title('HeartRate vs. RiskLevel')\n",
    "plt.show()"
   ]
  },
  {
   "attachments": {},
   "cell_type": "markdown",
   "metadata": {},
   "source": [
    "During pregnancy the amount of blood pumped by the heart increase by 30 to 50% according to research by MSD Manuels however heart rate of 67 to 90 as shown above is of maternal risk."
   ]
  },
  {
   "cell_type": "code",
   "execution_count": null,
   "metadata": {},
   "outputs": [],
   "source": [
    "# correlation analysis\n",
    "corrmat = df.drop(columns=['RiskLevel', 'AgeDist']).corr()\n",
    "top_corr_features = corrmat.index\n",
    "mask= np.triu(top_corr_features)\n",
    "plt.figure(figsize=(6,4))\n",
    "#plot heat map\n",
    "sns.heatmap(df[top_corr_features].corr(),annot=True, fmt='.2f', mask=mask, cmap='Spectral_r');"
   ]
  },
  {
   "attachments": {},
   "cell_type": "markdown",
   "metadata": {},
   "source": [
    "## Modeling"
   ]
  },
  {
   "cell_type": "code",
   "execution_count": null,
   "metadata": {},
   "outputs": [],
   "source": [
    "from sklearn.preprocessing import StandardScaler, LabelEncoder\n",
    "from sklearn.ensemble import RandomForestClassifier\n",
    "from sklearn.tree import DecisionTreeClassifier\n",
    "from sklearn.linear_model import LogisticRegression\n",
    "from sklearn.svm import SVC\n",
    "from sklearn.metrics import accuracy_score, confusion_matrix, classification_report, f1_score, plot_confusion_matrix\n",
    "from sklearn.model_selection import train_test_split, RandomizedSearchCV\n",
    "import pickle"
   ]
  },
  {
   "cell_type": "code",
   "execution_count": null,
   "metadata": {},
   "outputs": [],
   "source": [
    "# the 'Age' column will be dropped as we now have the 'AgeDist' column\n",
    "df.drop(columns=['Age'], inplace=True)"
   ]
  },
  {
   "cell_type": "code",
   "execution_count": null,
   "metadata": {},
   "outputs": [],
   "source": [
    "# find categorical variable and encode\n",
    "cat_features = df.select_dtypes(include=['object', 'category']).columns\n",
    "num_features = [col for col in df.columns if col not in cat_features]\n",
    "\n",
    "# print categorical variable\n",
    "print(\"Categorical features: \", cat_features)\n",
    "\n",
    "# print numerical variable\n",
    "print(\"Numerical features: \", num_features)"
   ]
  },
  {
   "cell_type": "code",
   "execution_count": null,
   "metadata": {},
   "outputs": [],
   "source": [
    "# label encoding\n",
    "le = LabelEncoder()\n",
    "for i in cat_features:\n",
    "    df[i] = le.fit_transform(df[i])"
   ]
  },
  {
   "cell_type": "code",
   "execution_count": null,
   "metadata": {},
   "outputs": [],
   "source": [
    "# save file to disk for modeling\n",
    "df.to_csv(\"healthrisk.csv\", index=False)"
   ]
  },
  {
   "cell_type": "code",
   "execution_count": null,
   "metadata": {},
   "outputs": [],
   "source": [
    "# split data into train and test set\n",
    "X = df.drop(columns='RiskLevel')\n",
    "y = df['RiskLevel']\n",
    "\n",
    "X_train, X_test, y_train, y_test = train_test_split(X, y, test_size=0.2, random_state=42)\n",
    "\n",
    "num_features = ['SystolicBP', 'DiastolicBP', 'BS', 'BodyTemp', 'HeartRate', 'AgeDist']\n",
    "\n",
    "# standardize the data\n",
    "scaler = StandardScaler()\n",
    "X_train = scaler.fit_transform(X_train[num_features])\n",
    "X_test = scaler.transform(X_test[num_features])"
   ]
  },
  {
   "cell_type": "code",
   "execution_count": null,
   "metadata": {},
   "outputs": [],
   "source": [
    "# instantiate models\n",
    "modelclasses = {'LogisticReg': LogisticRegression(), \n",
    "                'SVC': SVC(), \n",
    "                'DecisionTree': DecisionTreeClassifier(),\n",
    "                'RandomForest': RandomForestClassifier()\n",
    "                }"
   ]
  },
  {
   "cell_type": "code",
   "execution_count": null,
   "metadata": {},
   "outputs": [],
   "source": [
    "# Iteration of models\n",
    "\n",
    "# create a list to store model results\n",
    "acc_scores = []\n",
    "f1_scores = []\n",
    "\n",
    "for model_name, model_method in modelclasses.items():\n",
    "       \n",
    "    # fit model to training data\n",
    "    model_method.fit(X_train, y_train)\n",
    "    \n",
    "    # predict the outcomes on the test set\n",
    "    y_pred = model_method.predict(X_test)\n",
    "    \n",
    "    # append accuracy evaluation metric for the model to the list \n",
    "    acc_scores.append(accuracy_score(y_test, y_pred))\n",
    "    \n",
    "    # append R2 score evaluation metric for the model to the list\n",
    "    f1_scores.append(f1_score(y_test, y_pred, pos_label='positive', average='macro'))\n",
    "    \n",
    "# create a dataframe to store the results\n",
    "cla_results = pd.DataFrame({\"Model\":modelclasses.keys(), \"Accuracy Score\": acc_scores, \"F1 Score\": f1_scores})\n",
    "cla_results"
   ]
  },
  {
   "cell_type": "code",
   "execution_count": null,
   "metadata": {},
   "outputs": [],
   "source": [
    "# plot the R2 Score \n",
    "sns.barplot(x=cla_results['F1 Score'], y=cla_results.Model);"
   ]
  },
  {
   "cell_type": "code",
   "execution_count": null,
   "metadata": {},
   "outputs": [],
   "source": [
    "# Hyperparameter tuning for Random Forest Regressor using RandomizedSearchCV\n",
    "random_search = RandomizedSearchCV(estimator=RandomForestClassifier(),\n",
    "                                  param_distributions={\n",
    "                                    'max_depth': [10, 20, 30, 40],\n",
    "                                    'min_samples_split': [2, 5, 10],\n",
    "                                    'n_estimators': [100, 80, 60, 55, 51, 45]\n",
    "                                  },cv=5, scoring=\"r2\",verbose=1,n_jobs=-1, \n",
    "                                  n_iter=50, random_state = 1\n",
    "                                )\n",
    "\n",
    "random_search.fit(X_train, y_train)\n",
    "\n",
    "best_params=random_search.best_params_\n",
    "\n",
    "print(\" Results from Random Search \" )\n",
    "print(\"\\n The best estimator across ALL searched params:\\n\", random_search.best_estimator_)\n",
    "print(\"\\n The best score across ALL searched params:\\n\", random_search.best_score_)\n",
    "print(\"\\n The best parameters across ALL searched params:\\n\", best_params)"
   ]
  },
  {
   "cell_type": "code",
   "execution_count": null,
   "metadata": {},
   "outputs": [],
   "source": [
    "# Build Random Forest Regression Model\n",
    "model = RandomForestClassifier(max_depth=best_params[\"max_depth\"], n_estimators=best_params[\"n_estimators\"], min_samples_split=best_params['min_samples_split'])\n",
    "\n",
    "# fit model\n",
    "model.fit(X_train, y_train)\n",
    "\n",
    "# make predictions on the test set\n",
    "y_pred = model.predict(X_test)"
   ]
  },
  {
   "cell_type": "code",
   "execution_count": null,
   "metadata": {},
   "outputs": [],
   "source": [
    "# Evaluation Metrics\n",
    "def evaluation_metrics_func(y_test, y_pred):\n",
    "    \n",
    "    #print('Evaluation metric results:-')\n",
    "    print('Accuracy score : \\n', accuracy_score(y_test, y_pred))\n",
    "    print('F1 score : \\n', f1_score(y_test, y_pred, pos_label=\"positive\", average=\"macro\"))\n",
    "    print('Confusion Matrix: \\n', confusion_matrix(y_test, y_pred))\n",
    "    print('Classification Report : \\n', classification_report(y_test, y_pred))"
   ]
  },
  {
   "cell_type": "code",
   "execution_count": null,
   "metadata": {},
   "outputs": [],
   "source": [
    "# computing the evaluation metrics\n",
    "evaluation_metrics_func(y_test, y_pred)"
   ]
  },
  {
   "cell_type": "code",
   "execution_count": null,
   "metadata": {},
   "outputs": [],
   "source": [
    "# plot confusion matrix for RandomForestClassifier\n",
    "plot_confusion_matrix(model, X_test, y_test, cmap='Spectral_r');"
   ]
  },
  {
   "cell_type": "code",
   "execution_count": null,
   "metadata": {},
   "outputs": [],
   "source": [
    "# obtain feature weights for random forest regression\n",
    "feat_imp = model.feature_importances_\n",
    "\n",
    "# create a dataframe of feature weight\n",
    "feat_imp_ = pd.DataFrame(feat_imp, X.columns, columns=[\"Feature Importance\"]).sort_values(by=\"Feature Importance\", ascending=False)\n",
    "\n",
    "# plot feature weights\n",
    "plt.figure(figsize=(11,8))\n",
    "plt.ylabel('Features')\n",
    "plt.title('Feature Importance')\n",
    "sns.barplot(x=feat_imp_['Feature Importance'], y=feat_imp_.index);"
   ]
  },
  {
   "cell_type": "code",
   "execution_count": null,
   "metadata": {},
   "outputs": [],
   "source": [
    "# save the model to disk\n",
    "filename = 'finalized_model.sav'\n",
    "pickle.dump(model, open(filename, 'wb'))"
   ]
  }
 ],
 "metadata": {
  "kernelspec": {
   "display_name": "Python 3",
   "language": "python",
   "name": "python3"
  },
  "language_info": {
   "codemirror_mode": {
    "name": "ipython",
    "version": 3
   },
   "file_extension": ".py",
   "mimetype": "text/x-python",
   "name": "python",
   "nbconvert_exporter": "python",
   "pygments_lexer": "ipython3",
   "version": "3.9.13"
  },
  "orig_nbformat": 4
 },
 "nbformat": 4,
 "nbformat_minor": 2
}
